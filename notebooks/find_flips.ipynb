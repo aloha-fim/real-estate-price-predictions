{
 "cells": [
  {
   "cell_type": "code",
   "execution_count": 74,
   "metadata": {},
   "outputs": [],
   "source": [
    "from utils import get_data\n",
    "import numpy\n",
    "import pandas as pd"
   ]
  },
  {
   "cell_type": "code",
   "execution_count": 5,
   "metadata": {},
   "outputs": [],
   "source": [
    "data = get_data('../data')"
   ]
  },
  {
   "cell_type": "code",
   "execution_count": 79,
   "metadata": {
    "scrolled": true
   },
   "outputs": [],
   "source": [
    "soldHomes = data[data['STATUS'] == 'SLD']\n",
    "soldHomes = soldHomes[soldHomes['PROPTYPE'] != 'CC']"
   ]
  },
  {
   "cell_type": "code",
   "execution_count": 80,
   "metadata": {},
   "outputs": [],
   "source": [
    "soldMLS = soldHomes['MLSNUM'].unique()"
   ]
  },
  {
   "cell_type": "code",
   "execution_count": 81,
   "metadata": {},
   "outputs": [],
   "source": [
    "def getHome(data, mls):\n",
    "    home = data[data['MLSNUM'] == mls]\n",
    "    homes = data[data['ZIP'] == home['ZIP'].iloc[0]]\n",
    "    homes = homes[homes['HOUSENUM1'] == home['HOUSENUM1'].iloc[0]]\n",
    "    homes = homes[homes['STREETNAME'] == home['STREETNAME'].iloc[0]]\n",
    "    return homes"
   ]
  },
  {
   "cell_type": "code",
   "execution_count": 92,
   "metadata": {},
   "outputs": [],
   "source": [
    "test_homes = []\n",
    "for mls in soldMLS:\n",
    "    homes = getHome(soldHomes, mls)\n",
    "    if(homes.shape[0] == 2):\n",
    "        test_homes.append(homes)"
   ]
  },
  {
   "cell_type": "code",
   "execution_count": 127,
   "metadata": {},
   "outputs": [],
   "source": [
    "flippedHomes = pd.concat(test_homes)"
   ]
  },
  {
   "cell_type": "code",
   "execution_count": 128,
   "metadata": {},
   "outputs": [],
   "source": [
    "flippedHomes = flippedHomes.drop_duplicates(subset='MLSNUM', keep=\"first\")\n",
    "flippedHomes = flippedHomes.sort_values(by='MLSNUM')"
   ]
  },
  {
   "cell_type": "code",
   "execution_count": 129,
   "metadata": {},
   "outputs": [
    {
     "data": {
      "text/plain": [
       "13171      8/1/2017\n",
       "359767    2/23/2017\n",
       "13186      8/1/2017\n",
       "111898    6/14/2016\n",
       "13248      8/1/2017\n",
       "            ...    \n",
       "540042    1/15/2016\n",
       "536638    5/20/2016\n",
       "541447    1/28/2016\n",
       "537700    5/26/2016\n",
       "539256     1/7/2016\n",
       "Name: SOLDDATE, Length: 4885, dtype: object"
      ]
     },
     "execution_count": 129,
     "metadata": {},
     "output_type": "execute_result"
    }
   ],
   "source": [
    "flippedHomes['SOLDDATE']"
   ]
  },
  {
   "cell_type": "code",
   "execution_count": 130,
   "metadata": {},
   "outputs": [],
   "source": [
    "flips = [];\n",
    "for mls in flippedHomes['MLSNUM']:\n",
    "    homes = getHome(flippedHomes, mls)\n",
    "    if(homes.shape[0] == 2):\n",
    "        flips.append({\n",
    "            'PRE-FLIP-MLS': homes['MLSNUM'].iloc[0],\n",
    "            'POST-FLIP-MLS': homes['MLSNUM'].iloc[1],\n",
    "            'PRE-FLIP-SOLD-DATE': homes['SOLDDATE'].iloc[0],\n",
    "            'POST-FLIP-SOLD-DATE': homes['SOLDDATE'].iloc[1],\n",
    "            'PRE-SOLD-PRICE': homes['SOLDPRICE'].iloc[0],\n",
    "            'POST-SOLD-PRICE': homes['SOLDPRICE'].iloc[1],\n",
    "            'PRE-SOLD-PRICE': homes['SOLDPRICE'].iloc[0],\n",
    "            'POST-SOLD-PRICE': homes['SOLDPRICE'].iloc[1],\n",
    "            'PROFIT': int(homes['SOLDPRICE'].iloc[1]) - int(homes['SOLDPRICE'].iloc[0])\n",
    "        })"
   ]
  },
  {
   "cell_type": "code",
   "execution_count": null,
   "outputs": [],
   "source": [
    "pd.DataFrame.from_dict(flips)"
   ],
   "metadata": {
    "collapsed": false,
    "pycharm": {
     "name": "#%%\n"
    }
   }
  },
  {
   "cell_type": "code",
   "execution_count": null,
   "outputs": [],
   "source": [],
   "metadata": {
    "collapsed": false,
    "pycharm": {
     "name": "#%%\n"
    }
   }
  },
  {
   "cell_type": "code",
   "execution_count": 131,
   "metadata": {},
   "outputs": [
    {
     "data": {
      "text/html": [
       "<div>\n",
       "<style scoped>\n",
       "    .dataframe tbody tr th:only-of-type {\n",
       "        vertical-align: middle;\n",
       "    }\n",
       "\n",
       "    .dataframe tbody tr th {\n",
       "        vertical-align: top;\n",
       "    }\n",
       "\n",
       "    .dataframe thead th {\n",
       "        text-align: right;\n",
       "    }\n",
       "</style>\n",
       "<table border=\"1\" class=\"dataframe\">\n",
       "  <thead>\n",
       "    <tr style=\"text-align: right;\">\n",
       "      <th></th>\n",
       "      <th>PRE-FLIP-MLS</th>\n",
       "      <th>POST-FLIP-MLS</th>\n",
       "      <th>PRE-FLIP-SOLD-DATE</th>\n",
       "      <th>POST-FLIP-SOLD-DATE</th>\n",
       "      <th>PRE-SOLD-PRICE</th>\n",
       "      <th>POST-SOLD-PRICE</th>\n",
       "      <th>PROFIT</th>\n",
       "    </tr>\n",
       "  </thead>\n",
       "  <tbody>\n",
       "    <tr>\n",
       "      <th>0</th>\n",
       "      <td>72155376.0</td>\n",
       "      <td>72013298.0</td>\n",
       "      <td>8/1/2017</td>\n",
       "      <td>2/23/2017</td>\n",
       "      <td>324000</td>\n",
       "      <td>222500</td>\n",
       "      <td>-101500</td>\n",
       "    </tr>\n",
       "    <tr>\n",
       "      <th>1</th>\n",
       "      <td>72155376.0</td>\n",
       "      <td>72013298.0</td>\n",
       "      <td>8/1/2017</td>\n",
       "      <td>2/23/2017</td>\n",
       "      <td>324000</td>\n",
       "      <td>222500</td>\n",
       "      <td>-101500</td>\n",
       "    </tr>\n",
       "    <tr>\n",
       "      <th>2</th>\n",
       "      <td>72161351.0</td>\n",
       "      <td>71952358.0</td>\n",
       "      <td>8/1/2017</td>\n",
       "      <td>6/14/2016</td>\n",
       "      <td>1.05e+06</td>\n",
       "      <td>1.0175e+06</td>\n",
       "      <td>-32500</td>\n",
       "    </tr>\n",
       "    <tr>\n",
       "      <th>3</th>\n",
       "      <td>72161351.0</td>\n",
       "      <td>71952358.0</td>\n",
       "      <td>8/1/2017</td>\n",
       "      <td>6/14/2016</td>\n",
       "      <td>1.05e+06</td>\n",
       "      <td>1.0175e+06</td>\n",
       "      <td>-32500</td>\n",
       "    </tr>\n",
       "    <tr>\n",
       "      <th>4</th>\n",
       "      <td>72173293.0</td>\n",
       "      <td>71998186.0</td>\n",
       "      <td>8/1/2017</td>\n",
       "      <td>9/9/2016</td>\n",
       "      <td>325000</td>\n",
       "      <td>340000</td>\n",
       "      <td>15000</td>\n",
       "    </tr>\n",
       "    <tr>\n",
       "      <th>...</th>\n",
       "      <td>...</td>\n",
       "      <td>...</td>\n",
       "      <td>...</td>\n",
       "      <td>...</td>\n",
       "      <td>...</td>\n",
       "      <td>...</td>\n",
       "      <td>...</td>\n",
       "    </tr>\n",
       "    <tr>\n",
       "      <th>3783</th>\n",
       "      <td>71967250.0</td>\n",
       "      <td>71880404.0</td>\n",
       "      <td>5/20/2016</td>\n",
       "      <td>1/15/2016</td>\n",
       "      <td>144000</td>\n",
       "      <td>137000</td>\n",
       "      <td>-7000</td>\n",
       "    </tr>\n",
       "    <tr>\n",
       "      <th>3784</th>\n",
       "      <td>71969853.0</td>\n",
       "      <td>71910110.0</td>\n",
       "      <td>5/20/2016</td>\n",
       "      <td>1/28/2016</td>\n",
       "      <td>399900</td>\n",
       "      <td>234000</td>\n",
       "      <td>-165900</td>\n",
       "    </tr>\n",
       "    <tr>\n",
       "      <th>3785</th>\n",
       "      <td>71969853.0</td>\n",
       "      <td>71910110.0</td>\n",
       "      <td>5/20/2016</td>\n",
       "      <td>1/28/2016</td>\n",
       "      <td>399900</td>\n",
       "      <td>234000</td>\n",
       "      <td>-165900</td>\n",
       "    </tr>\n",
       "    <tr>\n",
       "      <th>3786</th>\n",
       "      <td>71980225.0</td>\n",
       "      <td>71933572.0</td>\n",
       "      <td>5/26/2016</td>\n",
       "      <td>1/7/2016</td>\n",
       "      <td>530000</td>\n",
       "      <td>412000</td>\n",
       "      <td>-118000</td>\n",
       "    </tr>\n",
       "    <tr>\n",
       "      <th>3787</th>\n",
       "      <td>71980225.0</td>\n",
       "      <td>71933572.0</td>\n",
       "      <td>5/26/2016</td>\n",
       "      <td>1/7/2016</td>\n",
       "      <td>530000</td>\n",
       "      <td>412000</td>\n",
       "      <td>-118000</td>\n",
       "    </tr>\n",
       "  </tbody>\n",
       "</table>\n",
       "<p>3788 rows × 7 columns</p>\n",
       "</div>"
      ],
      "text/plain": [
       "      PRE-FLIP-MLS  POST-FLIP-MLS PRE-FLIP-SOLD-DATE POST-FLIP-SOLD-DATE  \\\n",
       "0       72155376.0     72013298.0           8/1/2017           2/23/2017   \n",
       "1       72155376.0     72013298.0           8/1/2017           2/23/2017   \n",
       "2       72161351.0     71952358.0           8/1/2017           6/14/2016   \n",
       "3       72161351.0     71952358.0           8/1/2017           6/14/2016   \n",
       "4       72173293.0     71998186.0           8/1/2017            9/9/2016   \n",
       "...            ...            ...                ...                 ...   \n",
       "3783    71967250.0     71880404.0          5/20/2016           1/15/2016   \n",
       "3784    71969853.0     71910110.0          5/20/2016           1/28/2016   \n",
       "3785    71969853.0     71910110.0          5/20/2016           1/28/2016   \n",
       "3786    71980225.0     71933572.0          5/26/2016            1/7/2016   \n",
       "3787    71980225.0     71933572.0          5/26/2016            1/7/2016   \n",
       "\n",
       "     PRE-SOLD-PRICE POST-SOLD-PRICE  PROFIT  \n",
       "0            324000          222500 -101500  \n",
       "1            324000          222500 -101500  \n",
       "2          1.05e+06      1.0175e+06  -32500  \n",
       "3          1.05e+06      1.0175e+06  -32500  \n",
       "4            325000          340000   15000  \n",
       "...             ...             ...     ...  \n",
       "3783         144000          137000   -7000  \n",
       "3784         399900          234000 -165900  \n",
       "3785         399900          234000 -165900  \n",
       "3786         530000          412000 -118000  \n",
       "3787         530000          412000 -118000  \n",
       "\n",
       "[3788 rows x 7 columns]"
      ]
     },
     "execution_count": 131,
     "metadata": {},
     "output_type": "execute_result"
    }
   ],
   "source": []
  },
  {
   "cell_type": "code",
   "execution_count": null,
   "metadata": {},
   "outputs": [],
   "source": []
  }
 ],
 "metadata": {
  "kernelspec": {
   "display_name": "Python 3",
   "language": "python",
   "name": "python3"
  },
  "language_info": {
   "codemirror_mode": {
    "name": "ipython",
    "version": 3
   },
   "file_extension": ".py",
   "mimetype": "text/x-python",
   "name": "python",
   "nbconvert_exporter": "python",
   "pygments_lexer": "ipython3",
   "version": "3.7.7"
  }
 },
 "nbformat": 4,
 "nbformat_minor": 1
}